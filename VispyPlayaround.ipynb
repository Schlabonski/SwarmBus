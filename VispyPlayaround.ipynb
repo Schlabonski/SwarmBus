{
 "cells": [
  {
   "cell_type": "code",
   "execution_count": 1,
   "metadata": {
    "collapsed": false
   },
   "outputs": [
    {
     "name": "stderr",
     "output_type": "stream",
     "text": [
      "INFO: Could not import backend \"PyQt4\":\n",
      "No module named 'PyQt4'\n",
      "INFO:vispy:Could not import backend \"PyQt4\":\n",
      "No module named 'PyQt4'\n",
      "/usr/lib/python3.5/site-packages/IPython/config.py:13: ShimWarning: The `IPython.config` package has been deprecated. You should import from traitlets.config instead.\n",
      "  \"You should import from traitlets.config instead.\", ShimWarning)\n"
     ]
    }
   ],
   "source": [
    "import sys\n",
    "import numpy as np\n",
    "from vispy import app, scene\n",
    "\n",
    "# vertex positions of data to draw\n",
    "N = 200\n",
    "pos = np.zeros((N, 2), dtype=np.float32)\n",
    "pos[:, 0] = np.linspace(50., 750., N)\n",
    "pos[:, 1] = np.random.normal(size=N, scale=100, loc=400)\n",
    "\n",
    "# color array\n",
    "color = np.ones((N, 4), dtype=np.float32)\n",
    "color[:, 0] = np.linspace(0, 1, N)\n",
    "color[:, 1] = color[::-1, 0]\n",
    "\n",
    "canvas = scene.SceneCanvas(keys='interactive', size=(800, 800), show=True)\n",
    "\n",
    "line = scene.Line(pos, color, parent=canvas.scene)\n",
    "\n",
    "\n",
    "def update(ev):\n",
    "    global pos, color, line\n",
    "    pos[:, 1] = np.random.normal(size=N, scale=100, loc=400)\n",
    "    color = np.roll(color, 1, axis=0)\n",
    "    line.set_data(pos=pos, color=color)\n",
    "\n",
    "timer = app.Timer()\n",
    "timer.connect(update)\n",
    "timer.start(0)\n",
    "\n",
    "if __name__ == '__main__' and sys.flags.interactive == 0:\n",
    "    app.run()"
   ]
  },
  {
   "cell_type": "code",
   "execution_count": null,
   "metadata": {
    "collapsed": false
   },
   "outputs": [],
   "source": [
    "import sys\n",
    "\n",
    "from vispy import scene\n",
    "\n",
    "canvas = scene.SceneCanvas(keys='interactive', size=(800, 600), show=True)\n",
    "\n",
    "# Set up a viewbox to display the cube with interactive arcball\n",
    "view = canvas.central_widget.add_view()\n",
    "cube = scene.visuals.Rectangle(color='r', parent=view.scene)\n",
    "view.camera = 'turntable'\n",
    "view.camera.fov = 30.\n",
    "\n",
    "if __name__ == '__main__' and sys.flags.interactive == 0:\n",
    "    canvas.app.run()"
   ]
  },
  {
   "cell_type": "code",
   "execution_count": 20,
   "metadata": {
    "collapsed": false
   },
   "outputs": [
    {
     "name": "stderr",
     "output_type": "stream",
     "text": [
      "ERROR: Invoking <function update at 0x7fad6e37d7b8> repeat 131072\n",
      "ERROR:vispy:Invoking <function update at 0x7fad6e37d7b8> repeat 131072\n"
     ]
    }
   ],
   "source": [
    "import sys\n",
    "\n",
    "import numpy as np\n",
    "from publictransport import SimpleBus\n",
    "from vispy import scene\n",
    "\n",
    "canvas = scene.SceneCanvas(keys='interactive', show=True)\n",
    "\n",
    "view = canvas.central_widget.add_view()\n",
    "\n",
    "pos = np.asarray([0])\n",
    "\n",
    "busschen = scene.visuals.Rectangle(width=100, height=100, color='r', border_color='r', parent=view.scene)\n",
    "\n",
    "canvas.draw_visual(busschen)\n",
    "\n",
    "\n",
    "if __name__ == '__main__' and sys.flags.interactive == 0:\n",
    "    canvas.app.run()"
   ]
  },
  {
   "cell_type": "code",
   "execution_count": 1,
   "metadata": {
    "collapsed": false
   },
   "outputs": [
    {
     "name": "stderr",
     "output_type": "stream",
     "text": [
      "INFO: Could not import backend \"PyQt4\":\n",
      "No module named 'PyQt4'\n",
      "INFO:vispy:Could not import backend \"PyQt4\":\n",
      "No module named 'PyQt4'\n",
      "/usr/lib/python3.5/site-packages/IPython/config.py:13: ShimWarning: The `IPython.config` package has been deprecated. You should import from traitlets.config instead.\n",
      "  \"You should import from traitlets.config instead.\", ShimWarning)\n"
     ]
    }
   ],
   "source": []
  },
  {
   "cell_type": "code",
   "execution_count": 2,
   "metadata": {
    "collapsed": true
   },
   "outputs": [],
   "source": [
    "%load_ext autoreload\n",
    "%autoreload 2"
   ]
  },
  {
   "cell_type": "code",
   "execution_count": 9,
   "metadata": {
    "collapsed": false
   },
   "outputs": [
    {
     "name": "stdout",
     "output_type": "stream",
     "text": [
      "Starting at [0 0] with direction [ 0.70710678  0.70710678]\n",
      "I arrived at [ 400.43951993  400.43951993]!\n",
      "Starting at [ 400.43951993  400.43951993] with direction [-0.76489169 -0.64415891]\n",
      "I arrived at [ 285.37992229  303.54127193]!\n",
      "Starting at [ 285.37992229  303.54127193] with direction [-0.68796882 -0.72574025]\n",
      "I arrived at [ 14.80797837  18.11416417]!\n",
      "Starting at [ 14.80797837  18.11416417] with direction [ 0.35728961  0.93399365]\n",
      "I arrived at [ 108.57863563  263.24079744]!\n",
      "Starting at [ 108.57863563  263.24079744] with direction [ 0.86942086  0.49407223]\n",
      "I arrived at [ 223.20395145  328.37977388]!\n",
      "Starting at [ 223.20395145  328.37977388] with direction [ 0.98928435  0.14600165]\n",
      "I arrived at [ 389.31468601  352.89491133]!\n",
      "Starting at [ 389.31468601  352.89491133] with direction [-0.78783441 -0.61588712]\n",
      "I arrived at [ 169.79959667  181.2896675 ]!\n",
      "Starting at [ 169.79959667  181.2896675 ] with direction [ 0.86805109 -0.49647488]\n",
      "I arrived at [ 371.37928888   65.99777477]!\n",
      "Starting at [ 371.37928888   65.99777477] with direction [-0.00343365  0.99999411]\n",
      "I arrived at [ 370.45559895  335.00718895]!\n",
      "Starting at [ 370.45559895  335.00718895] with direction [-0.9496824  -0.31321452]\n",
      "I arrived at [ 106.55310468  247.96957214]!\n",
      "Starting at [ 106.55310468  247.96957214] with direction [-0.18389684 -0.98294555]\n",
      "I arrived at [ 62.2036244   10.91750861]!\n",
      "Starting at [ 62.2036244   10.91750861] with direction [ 0.92186998  0.38749934]\n",
      "I arrived at [ 323.90499611  120.92120948]!\n",
      "Starting at [ 323.90499611  120.92120948] with direction [ 0.33506812 -0.9421939 ]\n",
      "I arrived at [ 352.82807639   39.59103164]!\n",
      "Starting at [ 352.82807639   39.59103164] with direction [ 0.09402022  0.99557029]\n",
      "I arrived at [ 360.78839215  123.88198566]!\n",
      "Starting at [ 360.78839215  123.88198566] with direction [-0.31442196  0.94928332]\n",
      "I arrived at [ 294.87674456  322.87835019]!\n",
      "Starting at [ 294.87674456  322.87835019] with direction [-0.46813271 -0.88365817]\n",
      "I arrived at [ 159.8579084    68.01366005]!\n",
      "Starting at [ 159.8579084    68.01366005] with direction [ 0.40821127  0.91288748]\n"
     ]
    }
   ],
   "source": [
    "import numpy as np\n",
    "\n",
    "from publictransport import SimpleBus\n",
    "\n",
    "from vispy import app, scene\n",
    "from vispy.visuals.transforms import STTransform\n",
    "from vispy.ext.six import next\n",
    "\n",
    "canvas = scene.SceneCanvas(keys='interactive', size=(600, 600), show=True, bgcolor='#a7afbc')\n",
    "\n",
    "# Create a visual that updates the line with different colormaps\n",
    "color = 'r'\n",
    "\n",
    "bussi = SimpleBus([0,0], v_max=8, a_max=12)\n",
    "next_position = bussi.drive([400,400], 0.1)\n",
    "\n",
    "bus_representation = scene.Rectangle(center=(0,0), height=100, width=50, color=color, radius=10)\n",
    "bus_representation.parent = canvas.central_widget\n",
    "\n",
    "text = scene.Text('Velocity', color='w', bold=True, font_size=24, pos=(200, 40), parent=canvas.central_widget)\n",
    "\n",
    "def update(event):\n",
    "    global next_position, bus_representation\n",
    "    try:\n",
    "        x,v = next(next_position)\n",
    "        bus_representation.center = (x[0],x[1])\n",
    "        text.text = \"Velocity: {0:1.3f}, {1:1.3f} \\n Position: {2:1.3f} {3:1.3f}\".format(v[0], v[1], x[0], x[1])\n",
    "    except StopIteration:\n",
    "        x1 = np.random.random(2) * 400\n",
    "        next_position = bussi.drive(x1, .1)\n",
    "    \n",
    "timer = app.Timer('auto', connect=update, start=True)\n",
    "\n",
    "\n",
    "if __name__ == '__main__':\n",
    "    canvas.app.run()"
   ]
  },
  {
   "cell_type": "code",
   "execution_count": 3,
   "metadata": {
    "collapsed": false
   },
   "outputs": [
    {
     "name": "stdout",
     "output_type": "stream",
     "text": [
      "Starting at [0 0] with direction [ 0.70710678  0.70710678]\n",
      "I arrived at [ 399.9148467  399.9148467]!"
     ]
    },
    {
     "name": "stderr",
     "output_type": "stream",
     "text": [
      "ERROR: Invoking <function update at 0x7f3c3a11fd90> repeat 256\n",
      "ERROR:vispy:Invoking <function update at 0x7f3c3a11fd90> repeat 256\n",
      "ERROR: Invoking <function update at 0x7f3c54059048> repeat 512\n",
      "ERROR:vispy:Invoking <function update at 0x7f3c54059048> repeat 512\n",
      "ERROR: Invoking <function update at 0x7f3c3a11fd90> repeat 512\n",
      "ERROR:vispy:Invoking <function update at 0x7f3c3a11fd90> repeat 512\n",
      "ERROR: Invoking <function update at 0x7f3c54059048> repeat 1024\n",
      "ERROR:vispy:Invoking <function update at 0x7f3c54059048> repeat 1024\n"
     ]
    },
    {
     "name": "stdout",
     "output_type": "stream",
     "text": [
      "\n"
     ]
    }
   ],
   "source": []
  },
  {
   "cell_type": "code",
   "execution_count": 79,
   "metadata": {
    "collapsed": true
   },
   "outputs": [],
   "source": [
    "moving = True\n",
    "\n",
    "def numbaz():\n",
    "    global moving\n",
    "    for i in range(10):\n",
    "        if i > 7:\n",
    "            moving = False\n",
    "            raise StopIteration\n",
    "        else:    \n",
    "            yield i\n",
    "def _stopped():\n",
    "    yield 'Standing'\n",
    "            \n",
    "def get_position():\n",
    "    if moving:\n",
    "        n = numbaz()\n",
    "        return n\n",
    "    \n",
    "    else:\n",
    "        return _stopped()"
   ]
  },
  {
   "cell_type": "code",
   "execution_count": 82,
   "metadata": {
    "collapsed": false
   },
   "outputs": [
    {
     "name": "stdout",
     "output_type": "stream",
     "text": [
      "<generator object _stopped at 0x7f2048334b48>\n",
      "<generator object _stopped at 0x7f2048334b48>\n"
     ]
    }
   ],
   "source": [
    "for j in range(2):\n",
    "    print(get_position())"
   ]
  },
  {
   "cell_type": "code",
   "execution_count": 66,
   "metadata": {
    "collapsed": false
   },
   "outputs": [
    {
     "data": {
      "text/plain": [
       "False"
      ]
     },
     "execution_count": 66,
     "metadata": {},
     "output_type": "execute_result"
    }
   ],
   "source": [
    "moving"
   ]
  },
  {
   "cell_type": "code",
   "execution_count": null,
   "metadata": {
    "collapsed": true
   },
   "outputs": [],
   "source": []
  },
  {
   "cell_type": "code",
   "execution_count": null,
   "metadata": {
    "collapsed": true
   },
   "outputs": [],
   "source": []
  }
 ],
 "metadata": {
  "kernelspec": {
   "display_name": "Python 3",
   "language": "python",
   "name": "python3"
  },
  "language_info": {
   "codemirror_mode": {
    "name": "ipython",
    "version": 3
   },
   "file_extension": ".py",
   "mimetype": "text/x-python",
   "name": "python",
   "nbconvert_exporter": "python",
   "pygments_lexer": "ipython3",
   "version": "3.5.2"
  }
 },
 "nbformat": 4,
 "nbformat_minor": 0
}
